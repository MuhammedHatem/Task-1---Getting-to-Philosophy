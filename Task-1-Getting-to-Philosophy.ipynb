{
 "cells": [
  {
   "cell_type": "code",
   "execution_count": 1,
   "metadata": {},
   "outputs": [],
   "source": [
    "import requests\n",
    "import time\n",
    "from bs4 import BeautifulSoup"
   ]
  },
  {
   "cell_type": "code",
   "execution_count": 2,
   "metadata": {},
   "outputs": [],
   "source": [
    "#Find the first Wikipedia link in the given Wikipedia url\n",
    "def find_first_link(url):\n",
    "    #Make an HTTP request and parse the data using beautiful soup module.\n",
    "    response = requests.get(url)\n",
    "    #It will return first paragraph(p attribute in html) and from that first ‘a’ tag is returned.\n",
    "    html = response.text\n",
    "    soup = BeautifulSoup(html, 'html.parser')\n",
    "\n",
    "    #main body of the Web Scraping content on the Wikipedia page then I would select the element that highlights the entire \\\n",
    "    #center component of the webpage.\n",
    "    #select and scrape all the text from this specific <div> node by calling the ID name (“#mw-content-text”). the text that is\n",
    "    #scraped begins with the first line in the main body of the Web Scraping content and ends with the text in the See Also \n",
    "    #section\n",
    "    content_div = soup.find(id=\"mw-content-text\").find(class_=\"mw-parser-output\")\n",
    "\n",
    "    article_link = None\n",
    "\n",
    "    #Recursive=false to not check again parent link\n",
    "    for element in content_div.find_all(\"p\", recursive=False):\n",
    "        if element.find(\"a\", recursive=False):\n",
    "            article_link = element.find(\"a\", recursive=False).get('href')\n",
    "            break\n",
    "\n",
    "    if not article_link:\n",
    "        return \n",
    "\n",
    "    first_link = 'https://en.wikipedia.org' + article_link\n",
    "    return first_link"
   ]
  },
  {
   "cell_type": "code",
   "execution_count": 5,
   "metadata": {},
   "outputs": [],
   "source": [
    "#Checks if we reached philosiphy link or stuck in a loop.\n",
    "def continue_crawl(search_history, target_url):\n",
    "    if search_history[-1] == target_url:\n",
    "        return False\n",
    "    if len(search_history) != len(set(search_history)):\n",
    "        print(\"\\nWe've hit a cycle.\")\n",
    "        print(\"The \" + search_history[-1][30:] + \" article is the article that repeats.\\n\")\n",
    "        return False\n",
    "    else:\n",
    "        return True"
   ]
  },
  {
   "cell_type": "code",
   "execution_count": 6,
   "metadata": {},
   "outputs": [
    {
     "name": "stdout",
     "output_type": "stream",
     "text": [
      "https://en.wikipedia.org/wiki/Tim_Donahue_(drummer)\n",
      "\n",
      "You entered: https://en.wikipedia.org/wiki/Tim_Donahue_(drummer)\n",
      "Your target is: https://en.wikipedia.org/wiki/Wikipedia:Getting_to_Philosophy\n",
      "\n",
      "Traversed links:\n",
      "\n",
      "0: https://en.wikipedia.org/wiki/Tim_Donahue_(drummer)\n",
      "1: https://en.wikipedia.org/wiki/Oswego,_New_York\n",
      "2: https://en.wikipedia.org/wiki/City_(New_York)\n",
      "3: https://en.wikipedia.org/wiki/Local_government\n",
      "4: https://en.wikipedia.org/wiki/Public_administration\n",
      "5: https://en.wikipedia.org/wiki/Public_policy\n",
      "6: https://en.wikipedia.org/wiki/Rational_choice_theory\n",
      "7: https://en.wikipedia.org/wiki/Model_(abstract)\n",
      "8: https://en.wikipedia.org/wiki/Concept\n",
      "9: https://en.wikipedia.org/wiki/Abstraction\n",
      "10: https://en.wikipedia.org/wiki/Rule_of_inference\n",
      "11: https://en.wikipedia.org/wiki/Logic\n",
      "12: https://en.wikipedia.org/wiki/Ancient_Greek\n",
      "13: https://en.wikipedia.org/wiki/Greek_language\n",
      "\n",
      "The article has no links.\n",
      "\n"
     ]
    }
   ],
   "source": [
    "#Our main\n",
    "wikiInput = input()\n",
    "target = \"https://en.wikipedia.org/wiki/Wikipedia:Getting_to_Philosophy\"\n",
    "traversed = [wikiInput] # the list of articles crawled\n",
    "count = 0 # the number of articles crawled.\n",
    "\n",
    "\n",
    "print(\"\\nYou entered: \" + wikiInput)\n",
    "print(\"Your target is: \" + target)\n",
    "print(\"\\nTraversed links:\\n\")\n",
    "\n",
    "while continue_crawl(traversed, target):\n",
    "\n",
    "    print(str(count) + \": \" + traversed[-1])\n",
    "\n",
    "    first_link = find_first_link(traversed[-1])\n",
    "\n",
    "    if not first_link:\n",
    "        print(\"\\nThe article has no links.\\n\")\n",
    "        break\n",
    "\n",
    "    traversed.append(first_link)\n",
    "\n",
    "    count += 1 \n",
    "    time.sleep(0.5) "
   ]
  },
  {
   "cell_type": "code",
   "execution_count": null,
   "metadata": {},
   "outputs": [],
   "source": []
  }
 ],
 "metadata": {
  "kernelspec": {
   "display_name": "Python 3",
   "language": "python",
   "name": "python3"
  },
  "language_info": {
   "codemirror_mode": {
    "name": "ipython",
    "version": 3
   },
   "file_extension": ".py",
   "mimetype": "text/x-python",
   "name": "python",
   "nbconvert_exporter": "python",
   "pygments_lexer": "ipython3",
   "version": "3.7.4"
  }
 },
 "nbformat": 4,
 "nbformat_minor": 2
}
